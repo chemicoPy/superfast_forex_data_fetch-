{
  "nbformat": 4,
  "nbformat_minor": 0,
  "metadata": {
    "colab": {
      "name": "superfast_forex_data_fetch.ipynb",
      "provenance": [],
      "collapsed_sections": [],
      "include_colab_link": true
    },
    "kernelspec": {
      "display_name": "Python 3",
      "name": "python3"
    },
    "language_info": {
      "name": "python"
    }
  },
  "cells": [
    {
      "cell_type": "markdown",
      "metadata": {
        "id": "view-in-github",
        "colab_type": "text"
      },
      "source": [
        "<a href=\"https://colab.research.google.com/github/chemicoPy/superfast_forex_data_fetch-/blob/main/superfast_forex_data_fetch.ipynb\" target=\"_parent\"><img src=\"https://colab.research.google.com/assets/colab-badge.svg\" alt=\"Open In Colab\"/></a>"
      ]
    },
    {
      "cell_type": "code",
      "metadata": {
        "id": "ZPjFLJhZ_-zI"
      },
      "source": [
        "!pip install ccxt\n",
        "!pip install pandas_ta\n",
        "!pip install schedule"
      ],
      "execution_count": null,
      "outputs": []
    },
    {
      "cell_type": "code",
      "metadata": {
        "id": "uNjO3dhKY1fv"
      },
      "source": [
        ""
      ],
      "execution_count": null,
      "outputs": []
    },
    {
      "cell_type": "code",
      "metadata": {
        "id": "_YjeTqAoAGFT"
      },
      "source": [
        "import ccxt\n",
        "import pandas as pd\n",
        "import numpy as np\n",
        "from datetime import datetime, timedelta, date\n",
        "import matplotlib.pyplot as plt\n",
        "import time\n",
        "import pandas_ta as ta\n",
        "import plotly.graph_objects as go\n",
        "import plotly.express as px\n",
        "from IPython.display import clear_output\n",
        "import matplotlib.pyplot as plt\n",
        "import schedule\n"
      ],
      "execution_count": 6,
      "outputs": []
    },
    {
      "cell_type": "code",
      "metadata": {
        "id": "YaUMcgtgHnKa"
      },
      "source": [
        "API_KEY = 'cmC20L6OdOe6nfS4iD0T3aIYYbGh53G9nsz1kSO4pd5JsVtVbsycpvzxIwN89AEN'\n",
        "API_SECRET = 'JjyurQGV0hcbsEhsdUQoaoaeA85kw33xRrEJywhOJfI6ZNUvT42RMkQK1ed59gyh'"
      ],
      "execution_count": 7,
      "outputs": []
    },
    {
      "cell_type": "code",
      "metadata": {
        "colab": {
          "base_uri": "https://localhost:8080/",
          "height": 72
        },
        "id": "wrUMAujKjJsH",
        "outputId": "4871b1a4-e359-4ce4-fd85-6b6d04cefe2c"
      },
      "source": [
        "\"\"\" Examples_of_coins_are = [\"BNBUSDT\", \"ETHUSDT\", \"ADAUSDT\", \"DOTUSDT\", \"BTCUSDT\", \"FTMUSDT\", \"DOGEUSDT\", \"LINKUSDT\", \"SUSHIUSDT\", \"SOLUSDT\",\n",
        "                 \"IOSTUSDT\", \"LTCUSDT\", \"XRPUSDT\", \"SXPUSDT\", \"MATICUSDT\", \"BCHUSDT\"] \"\"\"\n",
        "\n",
        "coin = str(input(\"Enter coin name: \").upper())\n",
        "interval = str(input(\"Enter time interval name e.g 5m for 5-minute: \").lower())\n",
        "\n",
        "\"\"\" For example:\n",
        "coin = 'BTCUSDT'\n",
        "interval = '1m' \"\"\"\n"
      ],
      "execution_count": 40,
      "outputs": [
        {
          "name": "stdout",
          "output_type": "stream",
          "text": [
            "Enter coin name: BTCUSDT\n",
            "Enter time interval name e.g 5m for 5-minute: 1m\n"
          ]
        },
        {
          "output_type": "execute_result",
          "data": {
            "application/vnd.google.colaboratory.intrinsic+json": {
              "type": "string"
            },
            "text/plain": [
              "\" For example:\\ncoin = 'BTCUSDT'\\ninterval = '1m' \""
            ]
          },
          "metadata": {},
          "execution_count": 40
        }
      ]
    },
    {
      "cell_type": "code",
      "metadata": {
        "colab": {
          "base_uri": "https://localhost:8080/"
        },
        "id": "weta8yf5AzPq",
        "outputId": "910caa00-c038-48c4-9b85-c847c9f066e9"
      },
      "source": [
        "exchangepub = ccxt.binance()   # You can choose/enter the ID you prefer here e.g binance, coinbase, coinmate, coinmetro e.t.c\n",
        "\n",
        "exchange_id = 'binance'\n",
        "exchange_class = getattr(ccxt, exchange_id)\n",
        "exchange = exchange_class({\n",
        "    'apiKey': API_KEY,\n",
        "    'secret': API_SECRET,\n",
        "    'timeout': 3333,\n",
        "    'enableRateLimit': True,\n",
        "})\n",
        "\n",
        "\n",
        "def balance():\n",
        "  balance = exchange.fetch_balance()['info']['balances']\n",
        "\n",
        "  for i in balance:\n",
        "    if float(i['free']) > 0:\n",
        "      print(f' Balance: {i[\"asset\"]} | {i[\"free\"]}' )\n",
        "\n",
        "balance()\n",
        "\n"
      ],
      "execution_count": 41,
      "outputs": [
        {
          "output_type": "stream",
          "name": "stdout",
          "text": [
            " Balance: BNB | 0.03035383\n",
            " Balance: USDT | 102.40397528\n",
            " Balance: DOGE | 0.02360000\n",
            " Balance: SHIB | 10656112.00\n"
          ]
        }
      ]
    },
    {
      "cell_type": "code",
      "metadata": {
        "colab": {
          "base_uri": "https://localhost:8080/"
        },
        "id": "J8Vhaa0Jqqgs",
        "outputId": "9b7c974f-7b79-4737-bbe3-a4374780eede"
      },
      "source": [
        "\"\"\" Code line to see all columns of that data grabbed \"\"\"\n",
        "\n",
        "index = coin.find('USDT')\n",
        "symbol = coin[:index] + '/' + coin[index:]\n",
        "instrument = exchange.fetchTickers(str(symbol))\n",
        "print((instrument))"
      ],
      "execution_count": 42,
      "outputs": [
        {
          "output_type": "stream",
          "name": "stdout",
          "text": [
            "{'BTC/USDT': {'symbol': 'BTC/USDT', 'timestamp': 1636444683457, 'datetime': '2021-11-09T07:58:03.457Z', 'high': 68524.25, 'low': 65122.0, 'bid': 67879.5, 'bidVolume': 0.44306, 'ask': 67879.51, 'askVolume': 0.06154, 'vwap': 66753.22025565, 'open': 65920.26, 'close': 67879.5, 'last': 67879.5, 'previousClose': 65920.26, 'change': 1959.24, 'percentage': 2.972, 'average': 66899.88, 'baseVolume': 46604.994232, 'quoteVolume': 3111033444.981802, 'info': {'symbol': 'BTCUSDT', 'priceChange': '1959.24000000', 'priceChangePercent': '2.972', 'weightedAvgPrice': '66753.22025565', 'prevClosePrice': '65920.26000000', 'lastPrice': '67879.50000000', 'lastQty': '0.00224000', 'bidPrice': '67879.50000000', 'bidQty': '0.44306000', 'askPrice': '67879.51000000', 'askQty': '0.06154000', 'openPrice': '65920.26000000', 'highPrice': '68524.25000000', 'lowPrice': '65122.00000000', 'volume': '46604.99423200', 'quoteVolume': '3111033444.98180213', 'openTime': '1636358283457', 'closeTime': '1636444683457', 'firstId': '1134637109', 'lastId': '1136664908', 'count': '2027800'}}}\n"
          ]
        }
      ]
    },
    {
      "cell_type": "code",
      "metadata": {
        "id": "S5lmAFVFTWMz",
        "colab": {
          "base_uri": "https://localhost:8080/"
        },
        "outputId": "9a9a6819-3385-46f0-81c4-0b497d701d9c"
      },
      "source": [
        "def orderSignal():\n",
        "  markets = exchange.fetch_ohlcv(coin, timeframe=interval,limit= 1200)\n",
        "  df = pd.DataFrame(markets, columns=[\"time\", \"open\", \"high\", \"low\", \"close\", \"volume\"])\n",
        "  df.time = pd.to_datetime(df.time, unit='ms')\n",
        "  rsi = df.ta.rsi(14)\n",
        "  bb = df.ta.bbands()\n",
        "  mfi= df.ta.mfi()\n",
        "  sma = df.ta.sma(length=10, append=True)\n",
        "  \n",
        " \n",
        "\n",
        "  print(df.tail(3))\n",
        "  #print(f' The maximum value is {max} at row {argmax} \\n The minimum value is {min} at row {argmin}')\n",
        "  #def signalSell():\n",
        "  #current Rsi <  70(a)| max rsi is > 70| | argmax > argmin| atleast 8 candles  rsi less than  65 after arg max index| is last formed candle red or bearish\n",
        "  #print(f'Divergence spotted ====> RSI is below {a} after peaking at {max} you can sell at {currentP}  candle direction: {candleDirection}')\n",
        "\n",
        "  openV = df.iloc[-1]['open']\n",
        "  highV = df.iloc[-1]['high']\n",
        "  lowV = df.iloc[-1]['low']\n",
        "  closeV = df.iloc[-1]['close']\n",
        "\n",
        "  openD = df['open']\n",
        "  highD = df['high']\n",
        "  lowD = df['low']\n",
        "  closeD = df['close']\n",
        "  \n",
        "  def lan():\n",
        "    if (openD > closeD):\n",
        "      direction = -1\n",
        "    elif (openD < closeD):\n",
        "      direction = 0\n",
        "    else:\n",
        "      direction = -1\n",
        "\n",
        "\n",
        "  df.loc[df['open'] < df['close'], 'direction'] = 1 \n",
        "  df.loc[df['open'] > df['close'], 'direction'] = -1\n",
        "  df.loc[df['open'] == df['close'], 'direction'] = 0\n",
        "\n",
        "  direction = df['direction']\n",
        "\n",
        "    \n",
        "  body =  abs(openD - closeD)\n",
        "  wick = abs(highD - lowD)\n",
        "\n",
        "  bodyDenseH = abs(highV - closeV)\n",
        "  bodyDenseL = abs(lowV - closeV)\n",
        "\n",
        "  bodyDense = (body/wick) * 100\n",
        "\n",
        "\n",
        "  return\n",
        "\n",
        "\n",
        "orderSignal()\n",
        "\n"
      ],
      "execution_count": 43,
      "outputs": [
        {
          "output_type": "stream",
          "name": "stdout",
          "text": [
            "                   time      open      high  ...     close    volume     SMA_10\n",
            "997 2021-11-09 07:56:00  67830.36  67866.80  ...  67866.80  19.96029  67798.671\n",
            "998 2021-11-09 07:57:00  67866.80  67899.99  ...  67867.12  18.05859  67805.483\n",
            "999 2021-11-09 07:58:00  67867.11  67879.51  ...  67879.51   0.62526  67813.432\n",
            "\n",
            "[3 rows x 7 columns]\n"
          ]
        }
      ]
    },
    {
      "cell_type": "code",
      "metadata": {
        "id": "thvhSQGJzltf"
      },
      "source": [
        "\n"
      ],
      "execution_count": null,
      "outputs": []
    }
  ]
}